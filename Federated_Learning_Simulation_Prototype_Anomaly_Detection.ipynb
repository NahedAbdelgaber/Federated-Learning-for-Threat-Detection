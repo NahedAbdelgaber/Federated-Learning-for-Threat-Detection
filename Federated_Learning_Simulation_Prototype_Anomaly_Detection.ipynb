{
  "nbformat": 4,
  "nbformat_minor": 0,
  "metadata": {
    "colab": {
      "provenance": []
    },
    "kernelspec": {
      "name": "python3",
      "display_name": "Python 3"
    },
    "language_info": {
      "name": "python"
    }
  },
  "cells": [
    {
      "cell_type": "markdown",
      "source": [
        "**How It Works**\n",
        "\n",
        "**Client-Specific Data**\n",
        "\n",
        "Each data center (simulated as a client) trains its local model using its own data. The models are based on the specific characteristics and patterns observed within each data center. This approach helps prevent data leakage and preserves privacy by ensuring that sensitive data never leaves the local environment.\n",
        "\n",
        "Federated Learning Process\n",
        "\n",
        "\t1.\tTraining: Clients train their models locally on their own data, using the Decision Tree Classifier.\n",
        "\n",
        "\t2.\tAggregation: After training, the server aggregates the models by averaging the feature importances from each\n",
        "  client (which is a form of parameter aggregation in federated learning).\n",
        "\n",
        "\t3.\tEvaluation: Each client evaluates the model locally using a test set to determine its accuracy."
      ],
      "metadata": {
        "id": "cZsTc_EepzNy"
      }
    },
    {
      "cell_type": "markdown",
      "source": [
        "**1. Set up the environment**"
      ],
      "metadata": {
        "id": "52uvUTp40Fgz"
      }
    },
    {
      "cell_type": "code",
      "source": [
        "!pip install flower"
      ],
      "metadata": {
        "colab": {
          "base_uri": "https://localhost:8080/"
        },
        "id": "QR89TiR36KSX",
        "outputId": "f1235cd4-4575-4950-bb15-e9c5581c13cb"
      },
      "execution_count": 17,
      "outputs": [
        {
          "output_type": "stream",
          "name": "stdout",
          "text": [
            "Collecting flower\n",
            "  Downloading flower-2.0.1-py2.py3-none-any.whl.metadata (4.5 kB)\n",
            "Collecting celery>=5.0.5 (from flower)\n",
            "  Downloading celery-5.5.3-py3-none-any.whl.metadata (22 kB)\n",
            "Requirement already satisfied: tornado<7.0.0,>=5.0.0 in /usr/local/lib/python3.11/dist-packages (from flower) (6.4.2)\n",
            "Requirement already satisfied: prometheus-client>=0.8.0 in /usr/local/lib/python3.11/dist-packages (from flower) (0.22.1)\n",
            "Requirement already satisfied: humanize in /usr/local/lib/python3.11/dist-packages (from flower) (4.12.3)\n",
            "Requirement already satisfied: pytz in /usr/local/lib/python3.11/dist-packages (from flower) (2025.2)\n",
            "Collecting billiard<5.0,>=4.2.1 (from celery>=5.0.5->flower)\n",
            "  Downloading billiard-4.2.1-py3-none-any.whl.metadata (4.4 kB)\n",
            "Collecting kombu<5.6,>=5.5.2 (from celery>=5.0.5->flower)\n",
            "  Downloading kombu-5.5.4-py3-none-any.whl.metadata (3.5 kB)\n",
            "Collecting vine<6.0,>=5.1.0 (from celery>=5.0.5->flower)\n",
            "  Downloading vine-5.1.0-py3-none-any.whl.metadata (2.7 kB)\n",
            "Requirement already satisfied: click<9.0,>=8.1.2 in /usr/local/lib/python3.11/dist-packages (from celery>=5.0.5->flower) (8.1.8)\n",
            "Collecting click-didyoumean>=0.3.0 (from celery>=5.0.5->flower)\n",
            "  Downloading click_didyoumean-0.3.1-py3-none-any.whl.metadata (3.9 kB)\n",
            "Collecting click-repl>=0.2.0 (from celery>=5.0.5->flower)\n",
            "  Downloading click_repl-0.3.0-py3-none-any.whl.metadata (3.6 kB)\n",
            "Collecting click-plugins>=1.1.1 (from celery>=5.0.5->flower)\n",
            "  Downloading click_plugins-1.1.1.2-py2.py3-none-any.whl.metadata (6.5 kB)\n",
            "Requirement already satisfied: python-dateutil>=2.8.2 in /usr/local/lib/python3.11/dist-packages (from celery>=5.0.5->flower) (2.9.0.post0)\n",
            "Requirement already satisfied: prompt-toolkit>=3.0.36 in /usr/local/lib/python3.11/dist-packages (from click-repl>=0.2.0->celery>=5.0.5->flower) (3.0.51)\n",
            "Collecting amqp<6.0.0,>=5.1.1 (from kombu<5.6,>=5.5.2->celery>=5.0.5->flower)\n",
            "  Downloading amqp-5.3.1-py3-none-any.whl.metadata (8.9 kB)\n",
            "Requirement already satisfied: tzdata>=2025.2 in /usr/local/lib/python3.11/dist-packages (from kombu<5.6,>=5.5.2->celery>=5.0.5->flower) (2025.2)\n",
            "Requirement already satisfied: packaging in /usr/local/lib/python3.11/dist-packages (from kombu<5.6,>=5.5.2->celery>=5.0.5->flower) (24.2)\n",
            "Requirement already satisfied: six>=1.5 in /usr/local/lib/python3.11/dist-packages (from python-dateutil>=2.8.2->celery>=5.0.5->flower) (1.17.0)\n",
            "Requirement already satisfied: wcwidth in /usr/local/lib/python3.11/dist-packages (from prompt-toolkit>=3.0.36->click-repl>=0.2.0->celery>=5.0.5->flower) (0.2.13)\n",
            "Downloading flower-2.0.1-py2.py3-none-any.whl (383 kB)\n",
            "\u001b[2K   \u001b[90m━━━━━━━━━━━━━━━━━━━━━━━━━━━━━━━━━━━━━━━━\u001b[0m \u001b[32m383.6/383.6 kB\u001b[0m \u001b[31m17.2 MB/s\u001b[0m eta \u001b[36m0:00:00\u001b[0m\n",
            "\u001b[?25hDownloading celery-5.5.3-py3-none-any.whl (438 kB)\n",
            "\u001b[2K   \u001b[90m━━━━━━━━━━━━━━━━━━━━━━━━━━━━━━━━━━━━━━━━\u001b[0m \u001b[32m438.8/438.8 kB\u001b[0m \u001b[31m27.9 MB/s\u001b[0m eta \u001b[36m0:00:00\u001b[0m\n",
            "\u001b[?25hDownloading billiard-4.2.1-py3-none-any.whl (86 kB)\n",
            "\u001b[2K   \u001b[90m━━━━━━━━━━━━━━━━━━━━━━━━━━━━━━━━━━━━━━━━\u001b[0m \u001b[32m86.8/86.8 kB\u001b[0m \u001b[31m6.4 MB/s\u001b[0m eta \u001b[36m0:00:00\u001b[0m\n",
            "\u001b[?25hDownloading click_didyoumean-0.3.1-py3-none-any.whl (3.6 kB)\n",
            "Downloading click_plugins-1.1.1.2-py2.py3-none-any.whl (11 kB)\n",
            "Downloading click_repl-0.3.0-py3-none-any.whl (10 kB)\n",
            "Downloading kombu-5.5.4-py3-none-any.whl (210 kB)\n",
            "\u001b[2K   \u001b[90m━━━━━━━━━━━━━━━━━━━━━━━━━━━━━━━━━━━━━━━━\u001b[0m \u001b[32m210.0/210.0 kB\u001b[0m \u001b[31m13.0 MB/s\u001b[0m eta \u001b[36m0:00:00\u001b[0m\n",
            "\u001b[?25hDownloading vine-5.1.0-py3-none-any.whl (9.6 kB)\n",
            "Downloading amqp-5.3.1-py3-none-any.whl (50 kB)\n",
            "\u001b[2K   \u001b[90m━━━━━━━━━━━━━━━━━━━━━━━━━━━━━━━━━━━━━━━━\u001b[0m \u001b[32m50.9/50.9 kB\u001b[0m \u001b[31m3.1 MB/s\u001b[0m eta \u001b[36m0:00:00\u001b[0m\n",
            "\u001b[?25hInstalling collected packages: vine, click-plugins, click-didyoumean, billiard, click-repl, amqp, kombu, celery, flower\n",
            "Successfully installed amqp-5.3.1 billiard-4.2.1 celery-5.5.3 click-didyoumean-0.3.1 click-plugins-1.1.1.2 click-repl-0.3.0 flower-2.0.1 kombu-5.5.4 vine-5.1.0\n"
          ]
        }
      ]
    },
    {
      "cell_type": "markdown",
      "source": [
        "**Step 1: Load and preprocess data (Use only a very small sample of the dataset)**"
      ],
      "metadata": {
        "id": "yc59Rjcb6SJd"
      }
    },
    {
      "cell_type": "code",
      "source": [
        "import numpy as np\n",
        "from sklearn.tree import DecisionTreeClassifier  # Simpler classifier\n",
        "from sklearn.metrics import accuracy_score\n",
        "from sklearn.model_selection import train_test_split\n",
        "from sklearn.preprocessing import StandardScaler, LabelEncoder\n",
        "import zipfile\n",
        "import gzip\n",
        "import pandas as pd\n",
        "\n",
        "zip_file_path = \"kddcup.data_10_percent.gz.zip\"\n",
        "gz_file_path = \"kddcup.data_10_percent.gz\"\n",
        "\n",
        "# Unzipping the file\n",
        "with zipfile.ZipFile(zip_file_path, 'r') as zip_ref:\n",
        "    zip_ref.extractall()\n",
        "\n",
        "# Read the .gz file\n",
        "with gzip.open(gz_file_path, 'rt') as f:\n",
        "    df = pd.read_csv(f, header=None)\n",
        "\n",
        "# Use a very smaller sample (e.g., 0.1% of the data for faster processing)\n",
        "df = df.sample(frac=0.01, random_state=42)\n",
        "\n",
        "# Preprocess the dataset\n",
        "df[41] = LabelEncoder().fit(df[41]).transform(df[41])  # Convert labels to integers\n",
        "categorical_columns = [1, 2, 3]  # These columns are categorical (protocol_type, service, flag)\n",
        "label_encoder = LabelEncoder()\n",
        "\n",
        "for col in categorical_columns:\n",
        "    df[col] = label_encoder.fit_transform(df[col])\n",
        "\n",
        "X = df.iloc[:, :-1]  # Features (all columns except the last)\n",
        "y = df.iloc[:, -1]   # Target (last column)\n",
        "\n",
        "# Split into training and test sets\n",
        "X_train, X_test, y_train, y_test = train_test_split(X, y, test_size=0.3, random_state=42)\n",
        "\n",
        "# Standardize the features\n",
        "scaler = StandardScaler()\n",
        "X_train = scaler.fit_transform(X_train)\n",
        "X_test = scaler.transform(X_test)"
      ],
      "metadata": {
        "id": "JYG5Xrxn6d94"
      },
      "execution_count": null,
      "outputs": []
    },
    {
      "cell_type": "markdown",
      "source": [
        "**Step 2: Define the Flower Client**"
      ],
      "metadata": {
        "id": "T2d7Jvt66fOQ"
      }
    },
    {
      "cell_type": "code",
      "source": [
        "class FedClient:\n",
        "    def __init__(self, X_train, y_train, X_test, y_test):\n",
        "        self.X_train = X_train\n",
        "        self.y_train = y_train\n",
        "        self.X_test = X_test\n",
        "        self.y_test = y_test\n",
        "        self.model = DecisionTreeClassifier()  # Simpler model (Decision Tree)\n",
        "        self.model.fit(self.X_train, self.y_train)  # Fit the model to access feature importance\n",
        "\n",
        "    def get_parameters(self):\n",
        "        # For simplicity, we'll return the feature importances as model parameters\n",
        "        return self.model.feature_importances_\n",
        "\n",
        "    def set_parameters(self, parameters):\n",
        "        # Manually setting the parameters (in practice, you would set model weights here)\n",
        "        pass\n",
        "\n",
        "    def fit(self, parameters):\n",
        "        # Fit the model locally\n",
        "        self.model.fit(self.X_train, self.y_train)\n",
        "\n",
        "    def evaluate(self):\n",
        "        # Evaluate the model accuracy\n",
        "        y_pred = self.model.predict(self.X_test)\n",
        "        accuracy = accuracy_score(self.y_test, y_pred)\n",
        "        return accuracy"
      ],
      "metadata": {
        "id": "bHkWq4TF6kvm"
      },
      "execution_count": null,
      "outputs": []
    },
    {
      "cell_type": "markdown",
      "source": [
        "**Step 3: Simulate federated learning with 5 clients**"
      ],
      "metadata": {
        "id": "Fs4j5oNK6obV"
      }
    },
    {
      "cell_type": "code",
      "source": [
        "clients = [\n",
        "    FedClient(X_train, y_train, X_test, y_test),\n",
        "    FedClient(X_train, y_train, X_test, y_test),\n",
        "    FedClient(X_train, y_train, X_test, y_test),\n",
        "    FedClient(X_train, y_train, X_test, y_test),\n",
        "    FedClient(X_train, y_train, X_test, y_test),\n",
        "]"
      ],
      "metadata": {
        "id": "zG3PApel6tWf"
      },
      "execution_count": null,
      "outputs": []
    },
    {
      "cell_type": "markdown",
      "source": [
        "**Step 4: Run the local simulation without Flower communication**"
      ],
      "metadata": {
        "id": "zTvSBNP46uCs"
      }
    },
    {
      "cell_type": "code",
      "source": [
        "for round_num in range(1):  # Run only 1 round for faster testing\n",
        "    print(f\"Round {round_num + 1}\")\n",
        "\n",
        "    # Fit all clients locally (this simulates client-side model training)\n",
        "    for client in clients:\n",
        "        client.fit(client.get_parameters())\n",
        "\n",
        "    # Evaluate the clients\n",
        "    accuracies = []\n",
        "    for client in clients:\n",
        "        accuracy = client.evaluate()\n",
        "        accuracies.append(accuracy)\n",
        "        print(f\"Client accuracy: {accuracy}\")\n",
        "\n",
        "    # Simulate model aggregation (average of client parameters)\n",
        "    # In a real federated learning system, you would aggregate weights or gradients\n",
        "    global_params = np.mean([client.get_parameters() for client in clients], axis=0)\n",
        "    print(f\"Global model parameters (aggregated): {global_params}\")"
      ],
      "metadata": {
        "colab": {
          "base_uri": "https://localhost:8080/"
        },
        "id": "76Y1B6inD3vb",
        "outputId": "59153f07-ff93-49c6-d99f-09718e236d3e"
      },
      "execution_count": 34,
      "outputs": [
        {
          "output_type": "stream",
          "name": "stdout",
          "text": [
            "Round 1\n",
            "Client accuracy: 0.9898785425101214\n",
            "Client accuracy: 0.9932523616734144\n",
            "Client accuracy: 0.9912280701754386\n",
            "Client accuracy: 0.9939271255060729\n",
            "Client accuracy: 0.9885290148448043\n",
            "Global model parameters (aggregated): [9.71607813e-04 3.89251010e-04 1.67548185e-03 4.77030020e-04\n",
            " 1.94350342e-02 1.58002218e-03 0.00000000e+00 2.89429903e-03\n",
            " 0.00000000e+00 0.00000000e+00 0.00000000e+00 0.00000000e+00\n",
            " 0.00000000e+00 0.00000000e+00 0.00000000e+00 0.00000000e+00\n",
            " 0.00000000e+00 0.00000000e+00 0.00000000e+00 0.00000000e+00\n",
            " 0.00000000e+00 0.00000000e+00 7.07718267e-04 6.10944730e-01\n",
            " 4.49967151e-04 4.49967151e-04 3.62088416e-04 0.00000000e+00\n",
            " 3.32029800e-01 1.12102824e-02 0.00000000e+00 1.73912163e-03\n",
            " 5.43132624e-04 2.46878465e-04 1.57981918e-03 1.72485754e-03\n",
            " 7.22208660e-03 4.49967151e-04 8.99934302e-04 1.22092623e-03\n",
            " 7.95996021e-04]\n"
          ]
        }
      ]
    },
    {
      "cell_type": "markdown",
      "source": [],
      "metadata": {
        "id": "PaScYE5nqP2g"
      }
    },
    {
      "cell_type": "code",
      "source": [],
      "metadata": {
        "id": "1JMsHxB55cU2"
      },
      "execution_count": null,
      "outputs": []
    }
  ]
}
